{
 "cells": [
  {
   "cell_type": "code",
   "execution_count": 1,
   "metadata": {},
   "outputs": [
    {
     "name": "stdout",
     "output_type": "stream",
     "text": [
      "Found existing installation: h5py 3.8.0\n",
      "Uninstalling h5py-3.8.0:\n",
      "  Successfully uninstalled h5py-3.8.0\n"
     ]
    }
   ],
   "source": [
    "!pip uninstall --yes h5py"
   ]
  },
  {
   "cell_type": "code",
   "execution_count": 2,
   "metadata": {},
   "outputs": [
    {
     "name": "stdout",
     "output_type": "stream",
     "text": [
      "Requirement already satisfied: pandas in c:\\python38\\lib\\site-packages (2.0.1)\n",
      "Requirement already satisfied: python-dateutil>=2.8.2 in c:\\python38\\lib\\site-packages (from pandas) (2.8.2)\n",
      "Requirement already satisfied: pytz>=2020.1 in c:\\python38\\lib\\site-packages (from pandas) (2023.3)\n",
      "Requirement already satisfied: tzdata>=2022.1 in c:\\python38\\lib\\site-packages (from pandas) (2023.3)\n",
      "Requirement already satisfied: numpy>=1.20.3 in c:\\python38\\lib\\site-packages (from pandas) (1.24.3)\n",
      "Requirement already satisfied: six>=1.5 in c:\\python38\\lib\\site-packages (from python-dateutil>=2.8.2->pandas) (1.16.0)\n",
      "Note: you may need to restart the kernel to use updated packages.\n"
     ]
    },
    {
     "name": "stderr",
     "output_type": "stream",
     "text": [
      "DEPRECATION: pytorch-lightning 1.6.0 has a non-standard dependency specifier torch>=1.8.*. pip 24.0 will enforce this behaviour change. A possible replacement is to upgrade to a newer version of pytorch-lightning or contact the author to suggest that they release a version with a conforming dependency specifiers. Discussion can be found at https://github.com/pypa/pip/issues/12063\n",
      "\n",
      "[notice] A new release of pip is available: 23.3.1 -> 24.0\n",
      "[notice] To update, run: python.exe -m pip install --upgrade pip\n"
     ]
    },
    {
     "name": "stdout",
     "output_type": "stream",
     "text": [
      "Requirement already satisfied: scikit_image in c:\\python38\\lib\\site-packages (0.21.0)\n",
      "Requirement already satisfied: numpy>=1.21.1 in c:\\python38\\lib\\site-packages (from scikit_image) (1.24.3)\n",
      "Requirement already satisfied: scipy>=1.8 in c:\\python38\\lib\\site-packages (from scikit_image) (1.10.1)\n",
      "Requirement already satisfied: networkx>=2.8 in c:\\python38\\lib\\site-packages (from scikit_image) (3.0)\n",
      "Requirement already satisfied: pillow>=9.0.1 in c:\\python38\\lib\\site-packages (from scikit_image) (9.5.0)\n",
      "Requirement already satisfied: imageio>=2.27 in c:\\python38\\lib\\site-packages (from scikit_image) (2.31.5)\n",
      "Requirement already satisfied: tifffile>=2022.8.12 in c:\\python38\\lib\\site-packages (from scikit_image) (2023.7.10)\n",
      "Requirement already satisfied: PyWavelets>=1.1.1 in c:\\python38\\lib\\site-packages (from scikit_image) (1.4.1)\n",
      "Requirement already satisfied: packaging>=21 in c:\\python38\\lib\\site-packages (from scikit_image) (23.1)\n",
      "Requirement already satisfied: lazy_loader>=0.2 in c:\\python38\\lib\\site-packages (from scikit_image) (0.3)\n",
      "Note: you may need to restart the kernel to use updated packages.\n"
     ]
    },
    {
     "name": "stderr",
     "output_type": "stream",
     "text": [
      "DEPRECATION: pytorch-lightning 1.6.0 has a non-standard dependency specifier torch>=1.8.*. pip 24.0 will enforce this behaviour change. A possible replacement is to upgrade to a newer version of pytorch-lightning or contact the author to suggest that they release a version with a conforming dependency specifiers. Discussion can be found at https://github.com/pypa/pip/issues/12063\n",
      "\n",
      "[notice] A new release of pip is available: 23.3.1 -> 24.0\n",
      "[notice] To update, run: python.exe -m pip install --upgrade pip\n"
     ]
    },
    {
     "name": "stdout",
     "output_type": "stream",
     "text": [
      "Collecting h5py\n",
      "  Downloading h5py-3.11.0-cp38-cp38-win_amd64.whl.metadata (2.5 kB)\n",
      "Requirement already satisfied: numpy>=1.17.3 in c:\\python38\\lib\\site-packages (from h5py) (1.24.3)\n",
      "Downloading h5py-3.11.0-cp38-cp38-win_amd64.whl (3.0 MB)\n",
      "   ---------------------------------------- 0.0/3.0 MB ? eta -:--:--\n",
      "    --------------------------------------- 0.0/3.0 MB 991.0 kB/s eta 0:00:03\n",
      "   --- ------------------------------------ 0.2/3.0 MB 3.0 MB/s eta 0:00:01\n",
      "   -------- ------------------------------- 0.7/3.0 MB 5.2 MB/s eta 0:00:01\n",
      "   ------------------- -------------------- 1.4/3.0 MB 8.2 MB/s eta 0:00:01\n",
      "   --------------------------- ------------ 2.1/3.0 MB 10.1 MB/s eta 0:00:01\n",
      "   ---------------------------------------  3.0/3.0 MB 11.2 MB/s eta 0:00:01\n",
      "   ---------------------------------------- 3.0/3.0 MB 10.6 MB/s eta 0:00:00\n",
      "Installing collected packages: h5py\n",
      "Successfully installed h5py-3.11.0\n",
      "Note: you may need to restart the kernel to use updated packages.\n"
     ]
    },
    {
     "name": "stderr",
     "output_type": "stream",
     "text": [
      "DEPRECATION: pytorch-lightning 1.6.0 has a non-standard dependency specifier torch>=1.8.*. pip 24.0 will enforce this behaviour change. A possible replacement is to upgrade to a newer version of pytorch-lightning or contact the author to suggest that they release a version with a conforming dependency specifiers. Discussion can be found at https://github.com/pypa/pip/issues/12063\n",
      "\n",
      "[notice] A new release of pip is available: 23.3.1 -> 24.0\n",
      "[notice] To update, run: python.exe -m pip install --upgrade pip\n"
     ]
    }
   ],
   "source": [
    "# DEPENDENCIES ########################################################################################################################################\n",
    "\n",
    "\n",
    "%pip install pandas\n",
    "%pip install scikit_image\n",
    "%pip install h5py\n"
   ]
  },
  {
   "cell_type": "code",
   "execution_count": 4,
   "metadata": {},
   "outputs": [
    {
     "name": "stdout",
     "output_type": "stream",
     "text": [
      "Requirement already satisfied: tensorflow in c:\\python38\\lib\\site-packages (2.10.0)\n",
      "Requirement already satisfied: absl-py>=1.0.0 in c:\\python38\\lib\\site-packages (from tensorflow) (1.4.0)\n",
      "Requirement already satisfied: astunparse>=1.6.0 in c:\\python38\\lib\\site-packages (from tensorflow) (1.6.3)\n",
      "Requirement already satisfied: flatbuffers>=2.0 in c:\\python38\\lib\\site-packages (from tensorflow) (23.3.3)\n",
      "Requirement already satisfied: gast<=0.4.0,>=0.2.1 in c:\\python38\\lib\\site-packages (from tensorflow) (0.4.0)\n",
      "Requirement already satisfied: google-pasta>=0.1.1 in c:\\python38\\lib\\site-packages (from tensorflow) (0.2.0)\n",
      "Requirement already satisfied: h5py>=2.9.0 in c:\\python38\\lib\\site-packages (from tensorflow) (3.11.0)\n",
      "Requirement already satisfied: keras-preprocessing>=1.1.1 in c:\\python38\\lib\\site-packages (from tensorflow) (1.1.2)\n",
      "Requirement already satisfied: libclang>=13.0.0 in c:\\python38\\lib\\site-packages (from tensorflow) (16.0.0)\n",
      "Requirement already satisfied: numpy>=1.20 in c:\\python38\\lib\\site-packages (from tensorflow) (1.24.3)\n",
      "Requirement already satisfied: opt-einsum>=2.3.2 in c:\\python38\\lib\\site-packages (from tensorflow) (3.3.0)\n",
      "Requirement already satisfied: packaging in c:\\python38\\lib\\site-packages (from tensorflow) (23.1)\n",
      "Requirement already satisfied: protobuf<3.20,>=3.9.2 in c:\\python38\\lib\\site-packages (from tensorflow) (3.19.6)\n",
      "Requirement already satisfied: setuptools in c:\\python38\\lib\\site-packages (from tensorflow) (60.2.0)\n",
      "Requirement already satisfied: six>=1.12.0 in c:\\python38\\lib\\site-packages (from tensorflow) (1.16.0)\n",
      "Requirement already satisfied: termcolor>=1.1.0 in c:\\python38\\lib\\site-packages (from tensorflow) (2.3.0)\n",
      "Requirement already satisfied: typing-extensions>=3.6.6 in c:\\python38\\lib\\site-packages (from tensorflow) (4.5.0)\n",
      "Requirement already satisfied: wrapt>=1.11.0 in c:\\python38\\lib\\site-packages (from tensorflow) (1.15.0)\n",
      "Requirement already satisfied: tensorflow-io-gcs-filesystem>=0.23.1 in c:\\python38\\lib\\site-packages (from tensorflow) (0.31.0)\n",
      "Requirement already satisfied: grpcio<2.0,>=1.24.3 in c:\\python38\\lib\\site-packages (from tensorflow) (1.54.0)\n",
      "Requirement already satisfied: tensorboard<2.11,>=2.10 in c:\\python38\\lib\\site-packages (from tensorflow) (2.10.1)\n",
      "Requirement already satisfied: tensorflow-estimator<2.11,>=2.10.0 in c:\\python38\\lib\\site-packages (from tensorflow) (2.10.0)\n",
      "Requirement already satisfied: keras<2.11,>=2.10.0 in c:\\python38\\lib\\site-packages (from tensorflow) (2.10.0)\n",
      "Requirement already satisfied: wheel<1.0,>=0.23.0 in c:\\python38\\lib\\site-packages (from astunparse>=1.6.0->tensorflow) (0.40.0)\n",
      "Requirement already satisfied: google-auth<3,>=1.6.3 in c:\\python38\\lib\\site-packages (from tensorboard<2.11,>=2.10->tensorflow) (2.17.3)\n",
      "Requirement already satisfied: google-auth-oauthlib<0.5,>=0.4.1 in c:\\python38\\lib\\site-packages (from tensorboard<2.11,>=2.10->tensorflow) (0.4.6)\n",
      "Requirement already satisfied: markdown>=2.6.8 in c:\\python38\\lib\\site-packages (from tensorboard<2.11,>=2.10->tensorflow) (3.4.3)\n",
      "Requirement already satisfied: requests<3,>=2.21.0 in c:\\python38\\lib\\site-packages (from tensorboard<2.11,>=2.10->tensorflow) (2.28.2)\n",
      "Requirement already satisfied: tensorboard-data-server<0.7.0,>=0.6.0 in c:\\python38\\lib\\site-packages (from tensorboard<2.11,>=2.10->tensorflow) (0.6.1)\n",
      "Requirement already satisfied: tensorboard-plugin-wit>=1.6.0 in c:\\python38\\lib\\site-packages (from tensorboard<2.11,>=2.10->tensorflow) (1.8.1)\n",
      "Requirement already satisfied: werkzeug>=1.0.1 in c:\\python38\\lib\\site-packages (from tensorboard<2.11,>=2.10->tensorflow) (2.3.1)\n",
      "Requirement already satisfied: cachetools<6.0,>=2.0.0 in c:\\python38\\lib\\site-packages (from google-auth<3,>=1.6.3->tensorboard<2.11,>=2.10->tensorflow) (5.3.0)\n",
      "Requirement already satisfied: pyasn1-modules>=0.2.1 in c:\\python38\\lib\\site-packages (from google-auth<3,>=1.6.3->tensorboard<2.11,>=2.10->tensorflow) (0.3.0)\n",
      "Requirement already satisfied: rsa<5,>=3.1.4 in c:\\python38\\lib\\site-packages (from google-auth<3,>=1.6.3->tensorboard<2.11,>=2.10->tensorflow) (4.9)\n",
      "Requirement already satisfied: requests-oauthlib>=0.7.0 in c:\\python38\\lib\\site-packages (from google-auth-oauthlib<0.5,>=0.4.1->tensorboard<2.11,>=2.10->tensorflow) (1.3.1)\n",
      "Requirement already satisfied: importlib-metadata>=4.4 in c:\\python38\\lib\\site-packages (from markdown>=2.6.8->tensorboard<2.11,>=2.10->tensorflow) (6.6.0)\n",
      "Requirement already satisfied: charset-normalizer<4,>=2 in c:\\python38\\lib\\site-packages (from requests<3,>=2.21.0->tensorboard<2.11,>=2.10->tensorflow) (3.1.0)\n",
      "Requirement already satisfied: idna<4,>=2.5 in c:\\python38\\lib\\site-packages (from requests<3,>=2.21.0->tensorboard<2.11,>=2.10->tensorflow) (3.4)\n",
      "Requirement already satisfied: urllib3<1.27,>=1.21.1 in c:\\python38\\lib\\site-packages (from requests<3,>=2.21.0->tensorboard<2.11,>=2.10->tensorflow) (1.26.15)\n",
      "Requirement already satisfied: certifi>=2017.4.17 in c:\\python38\\lib\\site-packages (from requests<3,>=2.21.0->tensorboard<2.11,>=2.10->tensorflow) (2023.7.22)\n",
      "Requirement already satisfied: MarkupSafe>=2.1.1 in c:\\python38\\lib\\site-packages (from werkzeug>=1.0.1->tensorboard<2.11,>=2.10->tensorflow) (2.1.2)\n",
      "Requirement already satisfied: zipp>=0.5 in c:\\python38\\lib\\site-packages (from importlib-metadata>=4.4->markdown>=2.6.8->tensorboard<2.11,>=2.10->tensorflow) (3.15.0)\n",
      "Requirement already satisfied: pyasn1<0.6.0,>=0.4.6 in c:\\python38\\lib\\site-packages (from pyasn1-modules>=0.2.1->google-auth<3,>=1.6.3->tensorboard<2.11,>=2.10->tensorflow) (0.5.0)\n",
      "Requirement already satisfied: oauthlib>=3.0.0 in c:\\python38\\lib\\site-packages (from requests-oauthlib>=0.7.0->google-auth-oauthlib<0.5,>=0.4.1->tensorboard<2.11,>=2.10->tensorflow) (3.2.2)\n",
      "Note: you may need to restart the kernel to use updated packages.\n"
     ]
    },
    {
     "name": "stderr",
     "output_type": "stream",
     "text": [
      "DEPRECATION: pytorch-lightning 1.6.0 has a non-standard dependency specifier torch>=1.8.*. pip 24.0 will enforce this behaviour change. A possible replacement is to upgrade to a newer version of pytorch-lightning or contact the author to suggest that they release a version with a conforming dependency specifiers. Discussion can be found at https://github.com/pypa/pip/issues/12063\n",
      "\n",
      "[notice] A new release of pip is available: 23.3.1 -> 24.0\n",
      "[notice] To update, run: python.exe -m pip install --upgrade pip\n"
     ]
    }
   ],
   "source": [
    "%pip install tensorflow"
   ]
  },
  {
   "cell_type": "code",
   "execution_count": 1,
   "metadata": {},
   "outputs": [],
   "source": [
    "# IMPORTS #############################################################################################################################################\n",
    "\n",
    "import numpy as np\n",
    "import pandas as pd\n",
    "from tensorflow.python.lib.io import file_io\n",
    "from skimage.transform import resize\n",
    "from tensorflow.keras.utils import to_categorical\n",
    "from tensorflow.keras.applications.resnet50 import ResNet50\n",
    "from tensorflow.keras.models import Model\n",
    "from tensorflow.keras.layers import GlobalAveragePooling2D, Dense, Flatten\n",
    "from tensorflow.keras.preprocessing.image import ImageDataGenerator\n",
    "from tensorflow.keras.optimizers import Adam, SGD\n",
    "from tensorflow.keras.callbacks import TensorBoard, ReduceLROnPlateau, EarlyStopping, Callback, LearningRateScheduler"
   ]
  },
  {
   "cell_type": "code",
   "execution_count": 2,
   "metadata": {},
   "outputs": [],
   "source": [
    "# PARAMETERS ##########################################################################################################################################\n",
    "\n",
    "\n",
    "# Size of the images\n",
    "img_height, img_width = 96,96\n",
    "\n",
    "# Parameters\n",
    "num_classes         = 7     # ['Anger', 'Disgust', 'Fear', 'Happiness', 'Sadness', 'Surprise', 'Neutral']\n",
    "epochs_top_layers   = 5\n",
    "epochs_all_layers   = 100\n",
    "batch_size          = 64"
   ]
  },
  {
   "cell_type": "code",
   "execution_count": 3,
   "metadata": {},
   "outputs": [],
   "source": [
    "# DATASETS ############################################################################################################################################\n",
    "\n",
    "# Folder where logs and models are stored\n",
    "folder = 'C:/Users/skywalker/Desktop/Meriem_TAIEB_yasmine_MAHDOUI/facial_emotion_recognition/logs/RESNET50'\n",
    "\n",
    "# Data paths\n",
    "train_dataset\t= 'C:/Users/skywalker/Desktop/Meriem_TAIEB_yasmine_MAHDOUI/facial_emotion_recognition/fer2013/train'\n",
    "eval_dataset \t= 'C:/Users/skywalker/Desktop/Meriem_TAIEB_yasmine_MAHDOUI/facial_emotion_recognition/fer2013/validation'"
   ]
  },
  {
   "cell_type": "code",
   "execution_count": 4,
   "metadata": {},
   "outputs": [],
   "source": [
    "# MODEL ###############################################################################################################################################\n",
    "\n",
    "# Create the based on ResNet-50 architecture pre-trained model\n",
    "    # model:        Selects one of the available architectures vgg16, resnet50 or senet50\n",
    "    # include_top:  Whether to include the fully-connected layer at the top of the network\n",
    "    # weights:      Pre-training on VGGFace\n",
    "    # input_shape:  Optional shape tuple, only to be specified if include_top is False (otherwise the input\n",
    "    #               shape has to be (224, 224, 3) (with 'channels_last' data format) or (3, 224, 224) (with\n",
    "    #               'channels_first' data format). It should have exactly 3 inputs channels, and width and\n",
    "    #               height should be no smaller than 197. E.g. (200, 200, 3) would be one valid value.\n",
    "# Returns a keras Model instance\n",
    "base_model = ResNet50(\n",
    "    include_top = False,\n",
    "    weights     = 'imagenet',\n",
    "    input_shape = (img_height, img_width, 3))\n",
    "\n",
    "# Places x as the output of the pre-trained model\n",
    "x = base_model.output\n",
    "\n",
    "# Flattens the input. Does not affect the batch size\n",
    "x = Flatten()(x)\n",
    "\n",
    "# Add a fully-connected layer and a logistic layer\n",
    "# Dense implements the operation: output = activation(dot(input, kernel) + bias(only applicable if use_bias is True))\n",
    "    # units:        Positive integer, dimensionality of the output space\n",
    "    # activation:   Activation function to use\n",
    "    # input shape:  nD tensor with shape: (batch_size, ..., input_dim)\n",
    "    # output shape: nD tensor with shape: (batch_size, ..., units)\n",
    "x = Dense(1024, activation = 'relu')(x)\n",
    "predictions = Dense(num_classes, activation = 'softmax')(x)\n",
    "\n",
    "# The model we will train\n",
    "model = Model(inputs = base_model.input, outputs = predictions)\n",
    "# model.summary()"
   ]
  },
  {
   "cell_type": "code",
   "execution_count": 5,
   "metadata": {},
   "outputs": [
    {
     "name": "stdout",
     "output_type": "stream",
     "text": [
      "Found 28709 images belonging to 7 classes.\n",
      "Found 3589 images belonging to 7 classes.\n"
     ]
    }
   ],
   "source": [
    "# # DATA PREPARATION ####################################################################################################################################\n",
    "\n",
    "#create an ImageDataGenerator and generate batches of data\n",
    "def get_datagen(dataset, aug=False):\n",
    "    if aug: #check if augmentation is enabled\n",
    "        datagen = ImageDataGenerator(\n",
    "                            rescale=1./255, #rescale the pixel values to [0,1]\n",
    "                            featurewise_center=False,\n",
    "                            featurewise_std_normalization=False,\n",
    "                            rotation_range=10,  # Randomly rotate images by up to 10 degrees\n",
    "                            width_shift_range=0.1, # Randomly shift images horizontally by up to 10% of the width\n",
    "                            height_shift_range=0.1, # Randomly shift images vertically by up to 10% of the height\n",
    "                            zoom_range=0.1, # Randomly zoom into images by up to 10%\n",
    "                            horizontal_flip=True) #randomly flip images horizontally\n",
    "    else:\n",
    "        datagen = ImageDataGenerator(rescale=1./255)\n",
    "\n",
    "    return datagen.flow_from_directory(\n",
    "            dataset,\n",
    "            target_size=(96, 96), \n",
    "            color_mode='rgb',\n",
    "            shuffle = True, \n",
    "            class_mode='categorical',\n",
    "            batch_size=batch_size) #size of the batch \n",
    "\n",
    "train_generator  = get_datagen(train_dataset, True)\n",
    "dev_generator    = get_datagen(eval_dataset)\n"
   ]
  },
  {
   "cell_type": "code",
   "execution_count": 6,
   "metadata": {},
   "outputs": [
    {
     "name": "stdout",
     "output_type": "stream",
     "text": [
      "Epoch 1/5\n",
      "449/449 [==============================] - 146s 312ms/step - loss: 1.8277 - accuracy: 0.2522 - val_loss: 1.7775 - val_accuracy: 0.2602\n",
      "Epoch 2/5\n",
      "449/449 [==============================] - 47s 104ms/step - loss: 1.7689 - accuracy: 0.2736 - val_loss: 1.7482 - val_accuracy: 0.3090\n",
      "Epoch 3/5\n",
      "449/449 [==============================] - 47s 105ms/step - loss: 1.7504 - accuracy: 0.2824 - val_loss: 1.7377 - val_accuracy: 0.3104\n",
      "Epoch 4/5\n",
      "449/449 [==============================] - 47s 105ms/step - loss: 1.7388 - accuracy: 0.2911 - val_loss: 1.6917 - val_accuracy: 0.3221\n",
      "Epoch 5/5\n",
      "449/449 [==============================] - 47s 105ms/step - loss: 1.7376 - accuracy: 0.2944 - val_loss: 1.7732 - val_accuracy: 0.2775\n"
     ]
    },
    {
     "data": {
      "text/plain": [
       "<keras.callbacks.History at 0x1ab965c8c10>"
      ]
     },
     "execution_count": 6,
     "metadata": {},
     "output_type": "execute_result"
    }
   ],
   "source": [
    "# UPPER LAYERS TRAINING ###############################################################################################################################\n",
    "\n",
    "# First: train only the top layers (which were randomly initialized) freezing all convolutional ResNet-50 layers\n",
    "for layer in base_model.layers:\n",
    "    layer.trainable = False\n",
    "\n",
    "# Compile (configures the model for training) the model (should be done *AFTER* setting layers to non-trainable)\n",
    "    # optimizer:    String (name of optimizer) or optimizer object\n",
    "        # lr:       Float >= 0. Learning rate\n",
    "        # beta_1:   Float, 0 < beta < 1. Generally close to 1\n",
    "        # beta_2:   Float, 0 < beta < 1. Generally close to 1\n",
    "        # epsilon:  Float >= 0. Fuzz factor\n",
    "        # decay:    Float >= 0. Learning rate decay over each update\n",
    "    # loss:     String (name of objective function) or objective function\n",
    "    # metrics:  List of metrics to be evaluated by the model during training and testing\n",
    "model.compile(\n",
    "    optimizer   = Adam(learning_rate = 1e-3, beta_1 = 0.9, beta_2 = 0.999, epsilon = 1e-08), \n",
    "    loss        = 'categorical_crossentropy', \n",
    "    metrics     = ['accuracy'])\n",
    "\n",
    "# This callback writes a log for TensorBoard, which allows you to visualize dynamic graphs of your training and test metrics, \n",
    "# as well as activation histograms for the different layers in your model\n",
    "    # log_dir:          The path of the directory where to save the log files to be parsed by TensorBoard\n",
    "    # histogram_freq:   Frequency (in epochs) at which to compute activation and weight histograms for the layers of the model\n",
    "    #                   If set to 0, histograms won't be computed. Validation data (or split) must be specified for histogram visualizations\n",
    "    # write_graph:      Whether to visualize the graph in TensorBoard. The log file can become quite large when write_graph is set to True\n",
    "    # write_grads:      Whether to visualize gradient histograms in TensorBoard. histogram_freq must be greater than 0\n",
    "    # write_images:     Whether to write model weights to visualize as image in TensorBoard\n",
    "# To visualize the files created during training, run in your terminal: tensorboard --logdir path_to_current_dir/Graph\n",
    "tensorboard_top_layers = TensorBoard(\n",
    "\tlog_dir         = folder + '/logs_top_layers',\n",
    "\thistogram_freq  = 0,\n",
    "\twrite_graph     = True,\n",
    "\twrite_images    = True)\n",
    "\n",
    "# Train the model on the new data for a few epochs (Fits the model on data yielded batch-by-batch by a Python generator)\n",
    "    # generator:        A generator or an instance of Sequence (keras.utils.Sequence) object in order to avoid duplicate data when using multiprocessing\n",
    "    #                   The output of the generator must be either {a tuple (inputs, targets)} {a tuple (inputs, targets, sample_weights)}\n",
    "    # steps_per_epoch:  Total number of steps (batches of samples) to yield from generator before declaring one epoch finished and starting the next epoch\n",
    "    #                   It should typically be equal to the number of unique samples of your dataset divided by the batch size \n",
    "    # epochs:           Integer, total number of iterations on the data\n",
    "    # validation_data:  This can be either {a generator for the validation data } {a tuple (inputs, targets)} {a tuple (inputs, targets, sample_weights)}\n",
    "    # callbacks:        List of callbacks to be called during training (to visualize the files created during training, run in your terminal:\n",
    "    #                   tensorboard --logdir path_to_current_dir/Graph)\n",
    "model.fit(\n",
    "    x           = train_generator,\n",
    "    steps_per_epoch     = len(train_generator), # samples_per_epoch / batch_size\n",
    "    epochs              = epochs_top_layers,                            \n",
    "    validation_data     = dev_generator,\n",
    "    callbacks           = [tensorboard_top_layers]\n",
    ")"
   ]
  },
  {
   "cell_type": "code",
   "execution_count": 3,
   "metadata": {},
   "outputs": [
    {
     "name": "stdout",
     "output_type": "stream",
     "text": [
      "2.10.0\n"
     ]
    }
   ],
   "source": [
    "import tensorflow\n",
    "print(tensorflow.__version__)"
   ]
  },
  {
   "cell_type": "code",
   "execution_count": 7,
   "metadata": {},
   "outputs": [
    {
     "name": "stdout",
     "output_type": "stream",
     "text": [
      "Epoch 1/100\n",
      "449/449 [==============================] - 141s 303ms/step - loss: 2.0872 - accuracy: 0.3382 - val_loss: 6.7859 - val_accuracy: 0.1672 - lr: 1.0000e-04\n",
      "Epoch 2/100\n",
      "449/449 [==============================] - 135s 301ms/step - loss: 1.5143 - accuracy: 0.4394 - val_loss: 1.9284 - val_accuracy: 0.3483 - lr: 1.0000e-04\n",
      "Epoch 3/100\n",
      "449/449 [==============================] - 135s 301ms/step - loss: 1.3739 - accuracy: 0.4821 - val_loss: 1.4043 - val_accuracy: 0.4873 - lr: 1.0000e-04\n",
      "Epoch 4/100\n",
      "449/449 [==============================] - 135s 300ms/step - loss: 1.2937 - accuracy: 0.5129 - val_loss: 1.3205 - val_accuracy: 0.5038 - lr: 1.0000e-04\n",
      "Epoch 5/100\n",
      "449/449 [==============================] - 135s 300ms/step - loss: 1.2313 - accuracy: 0.5336 - val_loss: 1.2493 - val_accuracy: 0.5311 - lr: 1.0000e-04\n",
      "Epoch 6/100\n",
      "449/449 [==============================] - 135s 301ms/step - loss: 1.1849 - accuracy: 0.5568 - val_loss: 1.2172 - val_accuracy: 0.5475 - lr: 1.0000e-04\n",
      "Epoch 7/100\n",
      "449/449 [==============================] - 135s 300ms/step - loss: 1.1380 - accuracy: 0.5731 - val_loss: 1.2234 - val_accuracy: 0.5483 - lr: 1.0000e-04\n",
      "Epoch 8/100\n",
      "449/449 [==============================] - 135s 300ms/step - loss: 1.1040 - accuracy: 0.5879 - val_loss: 1.1839 - val_accuracy: 0.5670 - lr: 1.0000e-04\n",
      "Epoch 9/100\n",
      "449/449 [==============================] - 135s 300ms/step - loss: 1.0752 - accuracy: 0.5952 - val_loss: 1.1577 - val_accuracy: 0.5731 - lr: 1.0000e-04\n",
      "Epoch 10/100\n",
      "449/449 [==============================] - 135s 300ms/step - loss: 1.0471 - accuracy: 0.6068 - val_loss: 1.1580 - val_accuracy: 0.5795 - lr: 1.0000e-04\n",
      "Epoch 11/100\n",
      "449/449 [==============================] - 135s 300ms/step - loss: 1.0199 - accuracy: 0.6189 - val_loss: 1.1298 - val_accuracy: 0.5926 - lr: 1.0000e-04\n",
      "Epoch 12/100\n",
      "449/449 [==============================] - 134s 299ms/step - loss: 0.9940 - accuracy: 0.6287 - val_loss: 1.1653 - val_accuracy: 0.5815 - lr: 1.0000e-04\n",
      "Epoch 13/100\n",
      "449/449 [==============================] - 134s 299ms/step - loss: 0.9736 - accuracy: 0.6368 - val_loss: 1.1137 - val_accuracy: 0.5946 - lr: 1.0000e-04\n",
      "Epoch 14/100\n",
      "449/449 [==============================] - 135s 300ms/step - loss: 0.9476 - accuracy: 0.6477 - val_loss: 1.1194 - val_accuracy: 0.5982 - lr: 1.0000e-04\n",
      "Epoch 15/100\n",
      "449/449 [==============================] - 135s 300ms/step - loss: 0.9396 - accuracy: 0.6502 - val_loss: 1.0990 - val_accuracy: 0.6016 - lr: 1.0000e-04\n",
      "Epoch 16/100\n",
      "449/449 [==============================] - 135s 300ms/step - loss: 0.9056 - accuracy: 0.6623 - val_loss: 1.0952 - val_accuracy: 0.6091 - lr: 1.0000e-04\n",
      "Epoch 17/100\n",
      "449/449 [==============================] - 134s 299ms/step - loss: 0.8850 - accuracy: 0.6709 - val_loss: 1.1158 - val_accuracy: 0.5996 - lr: 1.0000e-04\n",
      "Epoch 18/100\n",
      "449/449 [==============================] - 135s 299ms/step - loss: 0.8714 - accuracy: 0.6771 - val_loss: 1.1014 - val_accuracy: 0.6110 - lr: 1.0000e-04\n",
      "Epoch 19/100\n",
      "449/449 [==============================] - 134s 299ms/step - loss: 0.8530 - accuracy: 0.6843 - val_loss: 1.0860 - val_accuracy: 0.6074 - lr: 1.0000e-04\n",
      "Epoch 20/100\n",
      "449/449 [==============================] - 134s 299ms/step - loss: 0.8290 - accuracy: 0.6904 - val_loss: 1.0842 - val_accuracy: 0.6124 - lr: 1.0000e-04\n",
      "Epoch 21/100\n",
      "449/449 [==============================] - 134s 299ms/step - loss: 0.8096 - accuracy: 0.7016 - val_loss: 1.0976 - val_accuracy: 0.6038 - lr: 1.0000e-04\n",
      "Epoch 22/100\n",
      "449/449 [==============================] - 134s 299ms/step - loss: 0.7989 - accuracy: 0.7079 - val_loss: 1.0917 - val_accuracy: 0.6155 - lr: 1.0000e-04\n",
      "Epoch 23/100\n",
      "449/449 [==============================] - 134s 298ms/step - loss: 0.7779 - accuracy: 0.7132 - val_loss: 1.0776 - val_accuracy: 0.6211 - lr: 1.0000e-04\n",
      "Epoch 24/100\n",
      "449/449 [==============================] - 134s 299ms/step - loss: 0.7580 - accuracy: 0.7216 - val_loss: 1.0824 - val_accuracy: 0.6160 - lr: 1.0000e-04\n",
      "Epoch 25/100\n",
      "449/449 [==============================] - 134s 299ms/step - loss: 0.7439 - accuracy: 0.7277 - val_loss: 1.1107 - val_accuracy: 0.6119 - lr: 1.0000e-04\n",
      "Epoch 26/100\n",
      "449/449 [==============================] - 135s 300ms/step - loss: 0.7247 - accuracy: 0.7345 - val_loss: 1.0941 - val_accuracy: 0.6158 - lr: 1.0000e-04\n",
      "Epoch 27/100\n",
      "449/449 [==============================] - 135s 300ms/step - loss: 0.7008 - accuracy: 0.7438 - val_loss: 1.0704 - val_accuracy: 0.6225 - lr: 5.0000e-05\n",
      "Epoch 28/100\n",
      "449/449 [==============================] - 135s 300ms/step - loss: 0.6918 - accuracy: 0.7470 - val_loss: 1.0853 - val_accuracy: 0.6149 - lr: 5.0000e-05\n",
      "Epoch 29/100\n",
      "449/449 [==============================] - 135s 300ms/step - loss: 0.6851 - accuracy: 0.7501 - val_loss: 1.0679 - val_accuracy: 0.6250 - lr: 5.0000e-05\n",
      "Epoch 30/100\n",
      "449/449 [==============================] - 135s 300ms/step - loss: 0.6709 - accuracy: 0.7562 - val_loss: 1.0728 - val_accuracy: 0.6269 - lr: 5.0000e-05\n",
      "Epoch 31/100\n",
      "449/449 [==============================] - 135s 300ms/step - loss: 0.6658 - accuracy: 0.7562 - val_loss: 1.0835 - val_accuracy: 0.6244 - lr: 5.0000e-05\n",
      "Epoch 32/100\n",
      "449/449 [==============================] - 135s 300ms/step - loss: 0.6651 - accuracy: 0.7585 - val_loss: 1.0779 - val_accuracy: 0.6236 - lr: 5.0000e-05\n",
      "Epoch 33/100\n",
      "449/449 [==============================] - 135s 300ms/step - loss: 0.6484 - accuracy: 0.7661 - val_loss: 1.0808 - val_accuracy: 0.6227 - lr: 5.0000e-05\n",
      "Epoch 34/100\n",
      "449/449 [==============================] - 135s 300ms/step - loss: 0.6364 - accuracy: 0.7689 - val_loss: 1.0771 - val_accuracy: 0.6291 - lr: 2.5000e-05\n",
      "Epoch 35/100\n",
      "449/449 [==============================] - 135s 300ms/step - loss: 0.6328 - accuracy: 0.7720 - val_loss: 1.0799 - val_accuracy: 0.6286 - lr: 2.5000e-05\n",
      "Epoch 36/100\n",
      "449/449 [==============================] - 135s 300ms/step - loss: 0.6223 - accuracy: 0.7739 - val_loss: 1.0801 - val_accuracy: 0.6297 - lr: 2.5000e-05\n",
      "Epoch 37/100\n",
      "449/449 [==============================] - 134s 299ms/step - loss: 0.6251 - accuracy: 0.7714 - val_loss: 1.0777 - val_accuracy: 0.6258 - lr: 2.5000e-05\n",
      "Epoch 38/100\n",
      "449/449 [==============================] - 134s 299ms/step - loss: 0.6202 - accuracy: 0.7753 - val_loss: 1.0775 - val_accuracy: 0.6258 - lr: 2.5000e-05\n",
      "Epoch 39/100\n",
      "449/449 [==============================] - 134s 299ms/step - loss: 0.6099 - accuracy: 0.7799 - val_loss: 1.0728 - val_accuracy: 0.6305 - lr: 2.5000e-05\n",
      "Epoch 40/100\n",
      "449/449 [==============================] - 134s 299ms/step - loss: 0.6095 - accuracy: 0.7816 - val_loss: 1.0797 - val_accuracy: 0.6303 - lr: 2.5000e-05\n",
      "Epoch 41/100\n",
      "449/449 [==============================] - 134s 299ms/step - loss: 0.5999 - accuracy: 0.7822 - val_loss: 1.0885 - val_accuracy: 0.6314 - lr: 2.5000e-05\n",
      "Epoch 42/100\n",
      "449/449 [==============================] - 134s 299ms/step - loss: 0.5980 - accuracy: 0.7842 - val_loss: 1.0851 - val_accuracy: 0.6303 - lr: 2.5000e-05\n",
      "Epoch 43/100\n",
      "449/449 [==============================] - 134s 299ms/step - loss: 0.5993 - accuracy: 0.7814 - val_loss: 1.0774 - val_accuracy: 0.6325 - lr: 2.5000e-05\n",
      "Epoch 44/100\n",
      "449/449 [==============================] - 134s 299ms/step - loss: 0.5921 - accuracy: 0.7871 - val_loss: 1.0810 - val_accuracy: 0.6342 - lr: 2.5000e-05\n",
      "Epoch 45/100\n",
      "449/449 [==============================] - 135s 300ms/step - loss: 0.5855 - accuracy: 0.7892 - val_loss: 1.0852 - val_accuracy: 0.6291 - lr: 2.5000e-05\n",
      "Epoch 46/100\n",
      "449/449 [==============================] - 134s 299ms/step - loss: 0.5881 - accuracy: 0.7875 - val_loss: 1.0808 - val_accuracy: 0.6336 - lr: 2.5000e-05\n",
      "Epoch 47/100\n",
      "449/449 [==============================] - 134s 299ms/step - loss: 0.5745 - accuracy: 0.7922 - val_loss: 1.0817 - val_accuracy: 0.6342 - lr: 2.5000e-05\n",
      "Epoch 48/100\n",
      "449/449 [==============================] - 134s 299ms/step - loss: 0.5778 - accuracy: 0.7933 - val_loss: 1.0821 - val_accuracy: 0.6344 - lr: 1.2500e-05\n",
      "Epoch 49/100\n",
      "449/449 [==============================] - 134s 299ms/step - loss: 0.5677 - accuracy: 0.7958 - val_loss: 1.0823 - val_accuracy: 0.6353 - lr: 1.2500e-05\n",
      "Epoch 50/100\n",
      "449/449 [==============================] - 136s 302ms/step - loss: 0.5720 - accuracy: 0.7931 - val_loss: 1.0845 - val_accuracy: 0.6342 - lr: 1.2500e-05\n",
      "Epoch 51/100\n",
      "449/449 [==============================] - 135s 300ms/step - loss: 0.5716 - accuracy: 0.7949 - val_loss: 1.0785 - val_accuracy: 0.6369 - lr: 1.2500e-05\n",
      "Epoch 52/100\n",
      "449/449 [==============================] - 134s 299ms/step - loss: 0.5681 - accuracy: 0.7952 - val_loss: 1.0803 - val_accuracy: 0.6361 - lr: 1.2500e-05\n",
      "Epoch 53/100\n",
      "449/449 [==============================] - 134s 299ms/step - loss: 0.5650 - accuracy: 0.7944 - val_loss: 1.0816 - val_accuracy: 0.6358 - lr: 1.2500e-05\n",
      "Epoch 54/100\n",
      "449/449 [==============================] - 134s 299ms/step - loss: 0.5583 - accuracy: 0.7984 - val_loss: 1.0874 - val_accuracy: 0.6342 - lr: 1.2500e-05\n",
      "Epoch 55/100\n",
      "449/449 [==============================] - 135s 300ms/step - loss: 0.5562 - accuracy: 0.8020 - val_loss: 1.0863 - val_accuracy: 0.6361 - lr: 6.2500e-06\n",
      "Epoch 56/100\n",
      "449/449 [==============================] - 135s 300ms/step - loss: 0.5541 - accuracy: 0.8008 - val_loss: 1.0842 - val_accuracy: 0.6328 - lr: 6.2500e-06\n",
      "Epoch 57/100\n",
      "449/449 [==============================] - 135s 300ms/step - loss: 0.5546 - accuracy: 0.8003 - val_loss: 1.0831 - val_accuracy: 0.6356 - lr: 6.2500e-06\n",
      "Epoch 58/100\n",
      "449/449 [==============================] - 135s 300ms/step - loss: 0.5581 - accuracy: 0.7978 - val_loss: 1.0869 - val_accuracy: 0.6347 - lr: 3.1250e-06\n",
      "Epoch 59/100\n",
      "449/449 [==============================] - 135s 301ms/step - loss: 0.5538 - accuracy: 0.8033 - val_loss: 1.0848 - val_accuracy: 0.6356 - lr: 3.1250e-06\n",
      "Epoch 60/100\n",
      "449/449 [==============================] - 135s 300ms/step - loss: 0.5555 - accuracy: 0.7985 - val_loss: 1.0846 - val_accuracy: 0.6347 - lr: 3.1250e-06\n",
      "Epoch 61/100\n",
      "449/449 [==============================] - 135s 300ms/step - loss: 0.5563 - accuracy: 0.8021 - val_loss: 1.0846 - val_accuracy: 0.6356 - lr: 1.5625e-06\n"
     ]
    },
    {
     "ename": "UnicodeDecodeError",
     "evalue": "'utf-8' codec can't decode byte 0xe9 in position 71: invalid continuation byte",
     "output_type": "error",
     "traceback": [
      "\u001b[1;31m---------------------------------------------------------------------------\u001b[0m",
      "\u001b[1;31mUnicodeDecodeError\u001b[0m                        Traceback (most recent call last)",
      "Input \u001b[1;32mIn [7]\u001b[0m, in \u001b[0;36m<module>\u001b[1;34m\u001b[0m\n\u001b[0;32m     75\u001b[0m \u001b[38;5;28;01mwith\u001b[39;00m file_io\u001b[38;5;241m.\u001b[39mFileIO(\u001b[38;5;124m'\u001b[39m\u001b[38;5;124mResNet-50.h5\u001b[39m\u001b[38;5;124m'\u001b[39m, mode\u001b[38;5;241m=\u001b[39m\u001b[38;5;124m'\u001b[39m\u001b[38;5;124mrb\u001b[39m\u001b[38;5;124m'\u001b[39m) \u001b[38;5;28;01mas\u001b[39;00m input_f:\n\u001b[0;32m     76\u001b[0m     \u001b[38;5;28;01mwith\u001b[39;00m file_io\u001b[38;5;241m.\u001b[39mFileIO(folder \u001b[38;5;241m+\u001b[39m \u001b[38;5;124m'\u001b[39m\u001b[38;5;124m/ResNet-50.h5\u001b[39m\u001b[38;5;124m'\u001b[39m, mode\u001b[38;5;241m=\u001b[39m\u001b[38;5;124m'\u001b[39m\u001b[38;5;124mwb\u001b[39m\u001b[38;5;124m'\u001b[39m) \u001b[38;5;28;01mas\u001b[39;00m output_f:  \u001b[38;5;66;03m# w+ : writing and reading\u001b[39;00m\n\u001b[1;32m---> 77\u001b[0m         output_f\u001b[38;5;241m.\u001b[39mwrite(\u001b[43minput_f\u001b[49m\u001b[38;5;241;43m.\u001b[39;49m\u001b[43mread\u001b[49m\u001b[43m(\u001b[49m\u001b[43m)\u001b[49m)\n",
      "File \u001b[1;32mC:\\Python38\\lib\\site-packages\\tensorflow\\python\\lib\\io\\file_io.py:114\u001b[0m, in \u001b[0;36mFileIO.read\u001b[1;34m(self, n)\u001b[0m\n\u001b[0;32m    102\u001b[0m \u001b[38;5;28;01mdef\u001b[39;00m \u001b[38;5;21mread\u001b[39m(\u001b[38;5;28mself\u001b[39m, n\u001b[38;5;241m=\u001b[39m\u001b[38;5;241m-\u001b[39m\u001b[38;5;241m1\u001b[39m):\n\u001b[0;32m    103\u001b[0m \u001b[38;5;250m  \u001b[39m\u001b[38;5;124;03m\"\"\"Returns the contents of a file as a string.\u001b[39;00m\n\u001b[0;32m    104\u001b[0m \n\u001b[0;32m    105\u001b[0m \u001b[38;5;124;03m  Starts reading from current position in file.\u001b[39;00m\n\u001b[1;32m   (...)\u001b[0m\n\u001b[0;32m    112\u001b[0m \u001b[38;5;124;03m    string if in string (regular) mode.\u001b[39;00m\n\u001b[0;32m    113\u001b[0m \u001b[38;5;124;03m  \"\"\"\u001b[39;00m\n\u001b[1;32m--> 114\u001b[0m   \u001b[38;5;28;43mself\u001b[39;49m\u001b[38;5;241;43m.\u001b[39;49m\u001b[43m_preread_check\u001b[49m\u001b[43m(\u001b[49m\u001b[43m)\u001b[49m\n\u001b[0;32m    115\u001b[0m   \u001b[38;5;28;01mif\u001b[39;00m n \u001b[38;5;241m==\u001b[39m \u001b[38;5;241m-\u001b[39m\u001b[38;5;241m1\u001b[39m:\n\u001b[0;32m    116\u001b[0m     length \u001b[38;5;241m=\u001b[39m \u001b[38;5;28mself\u001b[39m\u001b[38;5;241m.\u001b[39msize() \u001b[38;5;241m-\u001b[39m \u001b[38;5;28mself\u001b[39m\u001b[38;5;241m.\u001b[39mtell()\n",
      "File \u001b[1;32mC:\\Python38\\lib\\site-packages\\tensorflow\\python\\lib\\io\\file_io.py:76\u001b[0m, in \u001b[0;36mFileIO._preread_check\u001b[1;34m(self)\u001b[0m\n\u001b[0;32m     73\u001b[0m \u001b[38;5;28;01mif\u001b[39;00m \u001b[38;5;129;01mnot\u001b[39;00m \u001b[38;5;28mself\u001b[39m\u001b[38;5;241m.\u001b[39m_read_check_passed:\n\u001b[0;32m     74\u001b[0m   \u001b[38;5;28;01mraise\u001b[39;00m errors\u001b[38;5;241m.\u001b[39mPermissionDeniedError(\u001b[38;5;28;01mNone\u001b[39;00m, \u001b[38;5;28;01mNone\u001b[39;00m,\n\u001b[0;32m     75\u001b[0m                                      \u001b[38;5;124m\"\u001b[39m\u001b[38;5;124mFile isn\u001b[39m\u001b[38;5;124m'\u001b[39m\u001b[38;5;124mt open for reading\u001b[39m\u001b[38;5;124m\"\u001b[39m)\n\u001b[1;32m---> 76\u001b[0m \u001b[38;5;28mself\u001b[39m\u001b[38;5;241m.\u001b[39m_read_buf \u001b[38;5;241m=\u001b[39m \u001b[43m_pywrap_file_io\u001b[49m\u001b[38;5;241;43m.\u001b[39;49m\u001b[43mBufferedInputStream\u001b[49m\u001b[43m(\u001b[49m\n\u001b[0;32m     77\u001b[0m \u001b[43m    \u001b[49m\u001b[43mcompat\u001b[49m\u001b[38;5;241;43m.\u001b[39;49m\u001b[43mpath_to_str\u001b[49m\u001b[43m(\u001b[49m\u001b[38;5;28;43mself\u001b[39;49m\u001b[38;5;241;43m.\u001b[39;49m\u001b[43m__name\u001b[49m\u001b[43m)\u001b[49m\u001b[43m,\u001b[49m\u001b[43m \u001b[49m\u001b[38;5;241;43m1024\u001b[39;49m\u001b[43m \u001b[49m\u001b[38;5;241;43m*\u001b[39;49m\u001b[43m \u001b[49m\u001b[38;5;241;43m512\u001b[39;49m\u001b[43m)\u001b[49m\n",
      "\u001b[1;31mUnicodeDecodeError\u001b[0m: 'utf-8' codec can't decode byte 0xe9 in position 71: invalid continuation byte"
     ]
    }
   ],
   "source": [
    "# FULL NETWORK TRAINING ###############################################################################################################################\n",
    "\n",
    "# At this point, the top layers are well trained and we can start fine-tuning convolutional layers from ResNet-50\n",
    "\n",
    "\n",
    "# Fine-tuning of all the layers\n",
    "for layer in model.layers:\n",
    "    layer.trainable = True\n",
    "\n",
    "# We need to recompile the model for these modifications to take effect (we use SGD with nesterov momentum and a low learning rate)\n",
    "    # optimizer:    String (name of optimizer) or optimizer object\n",
    "        # lr:       float >= 0. Learning rate\n",
    "        # momentum: float >= 0. Parameter updates momentum\n",
    "        # decay:    float >= 0. Learning rate decay over each update\n",
    "        # nesterov: boolean. Whether to apply Nesterov momentum\n",
    "    # loss:     String (name of objective function) or objective function\n",
    "    # metrics:  List of metrics to be evaluated by the model during training and testing\n",
    "model.compile(\n",
    "    optimizer   = SGD(learning_rate = 1e-4, momentum = 0.9, nesterov = True),\n",
    "    loss        = 'categorical_crossentropy', \n",
    "    metrics     = ['accuracy'])\n",
    "\n",
    "# This callback writes a log for TensorBoard, which allows you to visualize dynamic graphs of your training and test metrics, \n",
    "tensorboard_all_layers = TensorBoard(\n",
    "    log_dir         = folder + '/logs_all_layers',\n",
    "    histogram_freq  = 0,\n",
    "    write_graph     = True,\n",
    "    write_images    = True)\n",
    "\n",
    "# Reduce learning rate when a metric has stopped improving\n",
    "\t# monitor: \tQuantity to be monitored\n",
    "\t# factor: \tFactor by which the learning rate will be reduced. new_lr = lr * factor\n",
    "\t# patience:\tNumber of epochs with no improvement after which learning rate will be reduced\n",
    "\t# mode: \tOne of {auto, min, max}\n",
    "\t# min_lr:\tLower bound on the learning rate\n",
    "reduce_lr_plateau = ReduceLROnPlateau(\n",
    "\tmonitor \t= 'val_accuracy',\n",
    "\tfactor\t\t= 0.5,\n",
    "\tpatience\t= 3,\n",
    "\tmode \t\t= 'auto',\n",
    "\tmin_lr\t\t= 1e-8)\n",
    "\n",
    "# Stop training when a monitored quantity has stopped improving\n",
    "\t# monitor:\t\tQuantity to be monitored\n",
    "\t# patience:\t\tNumber of epochs with no improvement after which training will be stopped\n",
    "\t# mode: \t\tOne of {auto, min, max}\n",
    "early_stop = EarlyStopping(\n",
    "\tmonitor \t= 'val_accuracy',\n",
    "\tpatience \t= 10,\n",
    "\tmode \t\t= 'auto')\n",
    "\t\n",
    "\n",
    "# Save the model after every epoch\n",
    "\t# filepath:       String, path to save the model file\n",
    "\t# monitor:        Quantity to monitor {val_loss, val_acc}\n",
    "\t# save_best_only: If save_best_only=True, the latest best model according to the quantity monitored will not be overwritten\n",
    "\t# mode:           One of {auto, min, max}. If save_best_only = True, the decision to overwrite the current save file is made based on either\n",
    "\t#\t\t\t      the maximization or the minimization of the monitored quantity. For val_acc, this should be max, for val_loss this should\n",
    "\t#\t\t\t      be min, etc. In auto mode, the direction is automatically inferred from the name of the monitored quantity\n",
    "\t# period:         Interval (number of epochs) between checkpoints\n",
    "\n",
    "# We train our model again (this time fine-tuning all the resnet blocks)\n",
    "model.fit(\n",
    "    x           = train_generator,\n",
    "    steps_per_epoch     = len(train_generator),  # samples_per_epoch / batch_size \n",
    "    epochs              = epochs_all_layers,                        \n",
    "    validation_data     = dev_generator,\n",
    "    callbacks           = [tensorboard_all_layers, reduce_lr_plateau,early_stop])\n",
    "\n",
    "# SAVING ##############################################################################################################################################\n",
    "\n",
    "# Saving the model in the workspace\n",
    "model.save(folder + '/ResNet-50.h5')\n",
    "# Save model.h5 on to google storage\n",
    "with file_io.FileIO('ResNet-50.h5', mode='rb') as input_f:\n",
    "    with file_io.FileIO(folder + '/ResNet-50.h5', mode='wb') as output_f:  # w+ : writing and reading\n",
    "        output_f.write(input_f.read())\n",
    "\n",
    "model.save('Inception-v3.h5')\n",
    "with file_io.FileIO('Inception-v3.h5', mode='rb') as input_f:\n",
    "    with file_io.FileIO(folder + '/Inception-v3.h5', mode='wb') as output_f:  # w+ : writing and reading\n",
    "        output_f.write(input_f.read())"
   ]
  },
  {
   "cell_type": "code",
   "execution_count": 9,
   "metadata": {},
   "outputs": [],
   "source": [
    "model.save(folder + '/ResNet-50.h5')\n",
    "# # Save model.h5 on to google storage\n",
    "# with file_io.FileIO('ResNet-50.h5', mode='rb') as input_f:\n",
    "#     with file_io.FileIO(folder + '/ResNet-50.h5', mode='wb') as output_f:  # w+ : writing and reading\n",
    "#         output_f.write(input_f.read())\n"
   ]
  },
  {
   "cell_type": "code",
   "execution_count": 10,
   "metadata": {},
   "outputs": [
    {
     "name": "stdout",
     "output_type": "stream",
     "text": [
      "Found 7178 images belonging to 7 classes.\n"
     ]
    }
   ],
   "source": [
    "test_dataset='C:/Users/skywalker/Desktop/Meriem_TAIEB_yasmine_MAHDOUI/facial_emotion_recognition/fer2013/test'\n",
    "test_generator=get_datagen(test_dataset)"
   ]
  },
  {
   "cell_type": "code",
   "execution_count": 11,
   "metadata": {},
   "outputs": [
    {
     "name": "stdout",
     "output_type": "stream",
     "text": [
      "\n",
      "# Evaluate on dev data\n",
      "57/57 [==============================] - 5s 88ms/step - loss: 1.0846 - accuracy: 0.6356\n",
      "dev loss, dev acc: [1.0846110582351685, 0.6355530619621277]\n",
      "\n",
      "# Evaluate on test data\n",
      "113/113 [==============================] - 26s 228ms/step - loss: 1.0652 - accuracy: 0.6407\n",
      "test loss, test acc: [1.0651787519454956, 0.6407077312469482]\n"
     ]
    }
   ],
   "source": [
    "print('\\n# Evaluate on dev data')\n",
    "results_dev = model.evaluate(dev_generator)\n",
    "print('dev loss, dev acc:', results_dev)\n",
    "\n",
    "print('\\n# Evaluate on test data')\n",
    "results_test = model.evaluate(test_generator)\n",
    "print('test loss, test acc:', results_test)\n",
    "\n",
    "# # list all data in history\n",
    "# print(history.history.keys())\n",
    "# # summarize history for accuracy\n",
    "# plt.plot(history.history['acc'])\n",
    "# plt.plot(history.history['val_acc'])\n",
    "# plt.title('model accuracy')\n",
    "# plt.ylabel('accuracy')\n",
    "# plt.xlabel('epoch')\n",
    "# plt.legend(['train', 'dev'], loc='upper left')\n",
    "# plt.show()\n",
    "# # summarize history for loss\n",
    "# plt.plot(history.history['loss'])\n",
    "# plt.plot(history.history['val_loss'])\n",
    "# plt.title('model loss')\n",
    "# plt.ylabel('loss')\n",
    "# plt.xlabel('epoch')\n",
    "# plt.legend(['train', 'dev'], loc='upper left')\n",
    "# plt.show()"
   ]
  },
  {
   "cell_type": "code",
   "execution_count": 12,
   "metadata": {},
   "outputs": [],
   "source": [
    "from sklearn.metrics import confusion_matrix\n",
    "import seaborn as sns\n",
    "import matplotlib.pyplot as plt "
   ]
  },
  {
   "cell_type": "code",
   "execution_count": 13,
   "metadata": {},
   "outputs": [
    {
     "name": "stdout",
     "output_type": "stream",
     "text": [
      "113/113 [==============================] - 11s 90ms/step\n"
     ]
    },
    {
     "data": {
      "image/png": "[encoded data removed]",
      "text/plain": [
       "<Figure size 1000x800 with 2 Axes>"
      ]
     },
     "metadata": {},
     "output_type": "display_data"
    }
   ],
   "source": [
    "#get the true labels\n",
    "true_labels=test_generator.classes\n",
    "predicted_labels=model.predict(test_generator).argmax(axis=-1)\n",
    "\n",
    "#confusion matrix\n",
    "cm=confusion_matrix(true_labels,predicted_labels)\n",
    "\n",
    "plt.figure(figsize=(10,8))\n",
    "sns.heatmap(cm,annot=True,fmt='d',cmap='Blues',xticklabels=test_generator.class_indices.keys(),yticklabels=test_generator.class_indices.keys())\n",
    "plt.xlabel('Predicted labels')\n",
    "plt.ylabel('True Labels')\n",
    "plt.title(\"Confusion Matrix\")\n",
    "\n",
    "plt.show()"
   ]
  }
 ],
 "metadata": {
  "kernelspec": {
   "display_name": "Python 3 (ipykernel)",
   "language": "python",
   "name": "python3"
  },
  "language_info": {
   "codemirror_mode": {
    "name": "ipython",
    "version": 3
   },
   "file_extension": ".py",
   "mimetype": "text/x-python",
   "name": "python",
   "nbconvert_exporter": "python",
   "pygments_lexer": "ipython3",
   "version": "3.8.0"
  }
 },
 "nbformat": 4,
 "nbformat_minor": 2
}
